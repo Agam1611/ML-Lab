{
  "nbformat": 4,
  "nbformat_minor": 0,
  "metadata": {
    "colab": {
      "provenance": []
    },
    "kernelspec": {
      "name": "python3",
      "display_name": "Python 3"
    },
    "language_info": {
      "name": "python"
    }
  },
  "cells": [
    {
      "cell_type": "code",
      "execution_count": 53,
      "metadata": {
        "colab": {
          "base_uri": "https://localhost:8080/"
        },
        "id": "6BEmwFBpskKX",
        "outputId": "ebb55222-34a8-40b9-8e71-547a142e2f5d"
      },
      "outputs": [
        {
          "output_type": "stream",
          "name": "stdout",
          "text": [
            "<class 'pandas.core.frame.DataFrame'>\n",
            "RangeIndex: 10 entries, 0 to 9\n",
            "Data columns (total 4 columns):\n",
            " #   Column    Non-Null Count  Dtype\n",
            "---  ------    --------------  -----\n",
            " 0   BMI       10 non-null     int64\n",
            " 1   Age       10 non-null     int64\n",
            " 2   Sugar     10 non-null     int64\n",
            " 3   Diabetes  10 non-null     int64\n",
            "dtypes: int64(4)\n",
            "memory usage: 452.0 bytes\n",
            "None\n",
            "   BMI  Age  Sugar  Diabetes\n",
            "0   10   25      1         1\n",
            "1    8   20      0         1\n",
            "2    7   25      1         0\n",
            "3   18   20      1         1\n",
            "4   40   50      0         0\n",
            "Mean Absolute Error (MAE): 0.6666666666666666\n",
            "Mean Squared Error (MSE): 0.6666666666666666\n",
            "Root Mean Squared Error (RMSE): 0.816496580927726\n",
            "Accuracy: 0.3333333333333333\n",
            "Classification Report:\n",
            "              precision    recall  f1-score   support\n",
            "\n",
            "           0       0.00      0.00      0.00         0\n",
            "           1       1.00      0.33      0.50         3\n",
            "\n",
            "    accuracy                           0.33         3\n",
            "   macro avg       0.50      0.17      0.25         3\n",
            "weighted avg       1.00      0.33      0.50         3\n",
            "\n"
          ]
        },
        {
          "output_type": "stream",
          "name": "stderr",
          "text": [
            "/usr/local/lib/python3.11/dist-packages/sklearn/metrics/_classification.py:1565: UndefinedMetricWarning: Recall is ill-defined and being set to 0.0 in labels with no true samples. Use `zero_division` parameter to control this behavior.\n",
            "  _warn_prf(average, modifier, f\"{metric.capitalize()} is\", len(result))\n",
            "/usr/local/lib/python3.11/dist-packages/sklearn/metrics/_classification.py:1565: UndefinedMetricWarning: Recall is ill-defined and being set to 0.0 in labels with no true samples. Use `zero_division` parameter to control this behavior.\n",
            "  _warn_prf(average, modifier, f\"{metric.capitalize()} is\", len(result))\n",
            "/usr/local/lib/python3.11/dist-packages/sklearn/metrics/_classification.py:1565: UndefinedMetricWarning: Recall is ill-defined and being set to 0.0 in labels with no true samples. Use `zero_division` parameter to control this behavior.\n",
            "  _warn_prf(average, modifier, f\"{metric.capitalize()} is\", len(result))\n"
          ]
        }
      ],
      "source": [
        "import pandas as pd\n",
        "import seaborn as sns\n",
        "import matplotlib.pyplot as plt\n",
        "from sklearn.model_selection import train_test_split\n",
        "from sklearn.linear_model import LogisticRegression\n",
        "from sklearn.preprocessing import StandardScaler, OneHotEncoder\n",
        "from sklearn.compose import ColumnTransformer\n",
        "from sklearn.pipeline import Pipeline\n",
        "from sklearn.metrics import accuracy_score, classification_report,mean_absolute_error, mean_squared_error\n",
        "\n",
        "# Load the dataset\n",
        "# data = {\n",
        "#     'BMI':[10,8,7,18,40,23,3,13,17,6],\n",
        "#     'Age': [25,20,25,20,50,15,10,30,22,27],\n",
        "#     'Sugar':[1,0,1,1,0,1,0,0,1,0],\n",
        "#     'Diabetes':[1,1,0,1,0,1,0,0,1,0]\n",
        "# }\n",
        "df = pd.DataFrame(data)\n",
        "# Display basic info\n",
        "print(df.info())\n",
        "print(df.head())\n",
        "\n",
        "# --- LOGISTIC REGRESSION MODEL ---\n",
        "\n",
        "# Define features and target variable\n",
        "X = df[['BMI','Age','Sugar']]\n",
        "y = df['Diabetes']\n",
        "\n",
        "# Preprocessing: Scale numeric features and one-hot encode categorical features\n",
        "preprocessor = ColumnTransformer(transformers=[\n",
        "    ('num', StandardScaler(), ['BMI','Age']),\n",
        "    ('cat', OneHotEncoder(), ['Sugar'])\n",
        "])\n",
        "\n",
        "# Create pipeline with logistic regression\n",
        "model = Pipeline(steps=[\n",
        "    ('preprocessor', preprocessor),\n",
        "    ('classifier', LogisticRegression(max_iter=1000))\n",
        "])\n",
        "\n",
        "# Split data into training and test sets\n",
        "X_train, X_test, y_train, y_test = train_test_split(X, y, test_size=0.3, random_state=42)\n",
        "\n",
        "# Train the model\n",
        "model.fit(X_train, y_train)\n",
        "\n",
        "# Predict on test data\n",
        "y_pred = model.predict(X_test)\n",
        "\n",
        "# Measure accuracy and display classification report\n",
        "accuracy = accuracy_score(y_test, y_pred)\n",
        "report = classification_report(y_test, y_pred)\n",
        "\n",
        "print(\"Mean Absolute Error (MAE):\", mean_absolute_error(y_test, y_pred))\n",
        "print(\"Mean Squared Error (MSE):\", mean_squared_error(y_test, y_pred))\n",
        "print(\"Root Mean Squared Error (RMSE):\", np.sqrt(mean_squared_error(y_test, y_pred)))\n",
        "print(f'Accuracy: {accuracy}')\n",
        "print('Classification Report:')\n",
        "print(report)"
      ]
    },
    {
      "cell_type": "code",
      "source": [
        "import pandas as pd\n",
        "from sklearn.model_selection import train_test_split\n",
        "from sklearn.tree import DecisionTreeClassifier, DecisionTreeRegressor\n",
        "from sklearn.metrics import accuracy_score, confusion_matrix, mean_absolute_error, mean_squared_error\n",
        "import numpy as np\n",
        "from sklearn.preprocessing import LabelEncoder\n",
        "\n",
        "data = {\n",
        "    'BMI':[10,8,7,18,40,23,3,13,17,6],\n",
        "    'Age': [25,20,25,20,50,15,10,30,22,27],\n",
        "    'Sugar':[1,0,1,1,0,1,0,0,1,0],\n",
        "    'Diabetes':[1,1,0,1,0,1,0,0,1,0]\n",
        "}\n",
        "df = pd.DataFrame(data)\n",
        "\n",
        "\n",
        "# Prepare dataset\n",
        "X = df.drop(columns=[\"Diabetes\"])\n",
        "y = df[\"Diabetes\"]\n",
        "X_train, X_test, y_train, y_test = train_test_split(X, y, test_size=0.2, random_state=42)\n",
        "\n",
        "# Train Decision Tree Classifier\n",
        "clf = DecisionTreeClassifier(max_depth=1).fit(X,y)  #All the thresholds, size equals \"dt.tree_.node_count\"\n",
        "# clf.tree_.threshold[1] = 10.0\n",
        "clf.tree_.threshold[2] = 1 #Manually modifying a threshold\n",
        "\n",
        "\n",
        "clf.fit(X_train, y_train)\n",
        "y_pred = clf.predict(X_test)\n",
        "\n",
        "print(\"Accuracy:\", accuracy_score(y_test, y_pred))\n",
        "print(\"Confusion Matrix:\\n\", confusion_matrix(y_test, y_pred))\n",
        "\n",
        "print(\"Mean Absolute Error (MAE):\", mean_absolute_error(y_test, y_pred))\n",
        "print(\"Mean Squared Error (MSE):\", mean_squared_error(y_test, y_pred))\n",
        "print(\"Root Mean Squared Error (RMSE):\", np.sqrt(mean_squared_error(y_test, y_pred)))\n",
        "\n"
      ],
      "metadata": {
        "colab": {
          "base_uri": "https://localhost:8080/"
        },
        "id": "VMDOfYSD5_pH",
        "outputId": "5b319b8c-72cb-4631-eb1f-46df1a5abdfd"
      },
      "execution_count": 84,
      "outputs": [
        {
          "output_type": "stream",
          "name": "stdout",
          "text": [
            "Accuracy: 0.5\n",
            "Confusion Matrix:\n",
            " [[0 0]\n",
            " [1 1]]\n",
            "Mean Absolute Error (MAE): 0.5\n",
            "Mean Squared Error (MSE): 0.5\n",
            "Root Mean Squared Error (RMSE): 0.7071067811865476\n"
          ]
        }
      ]
    },
    {
      "cell_type": "code",
      "source": [
        "#Modification\n",
        "\n",
        "import pandas as pd\n",
        "from sklearn.model_selection import train_test_split\n",
        "from sklearn.tree import DecisionTreeClassifier, DecisionTreeRegressor\n",
        "from sklearn.metrics import accuracy_score, confusion_matrix, mean_absolute_error, mean_squared_error\n",
        "import numpy as np\n",
        "from sklearn.preprocessing import LabelEncoder\n",
        "\n",
        "# data = {\n",
        "#     'BMI':[10,8,7,18,40,23,3,13,17,6],\n",
        "#     'Age': [25,20,25,20,50,15,10,30,22,27],\n",
        "#     'Sugar':[1,0,1,1,0,1,0,0,1,0],\n",
        "#     'Diabetes':[1,1,0,1,0,1,0,0,1,0]\n",
        "# }\n",
        "# df = pd.DataFrame(data)\n",
        "df=pd.read_csv('diabetes.csv')\n",
        "\n",
        "# Prepare dataset\n",
        "X = df.drop(columns=[\"Outcome\"])\n",
        "y = df[\"Outcome\"]\n",
        "X_train, X_test, y_train, y_test = train_test_split(X, y, test_size=0.2, random_state=42)\n",
        "\n",
        "# Train Decision Tree Classifier\n",
        "clf = DecisionTreeClassifier(max_depth=5).fit(X,y)  #All the thresholds, size equals \"dt.tree_.node_count\"\n",
        "clf.tree_.threshold[2] = 200 #Manually modifying a threshold\n",
        "clf.tree_.threshold[6]=20\n",
        "\n",
        "\n",
        "clf.fit(X_train, y_train)\n",
        "y_pred = clf.predict(X_test)\n",
        "\n",
        "print(\"Accuracy:\", accuracy_score(y_test, y_pred))\n",
        "print(\"Confusion Matrix:\\n\", confusion_matrix(y_test, y_pred))\n",
        "\n",
        "print(\"Mean Absolute Error (MAE):\", mean_absolute_error(y_test, y_pred))\n",
        "print(\"Mean Squared Error (MSE):\", mean_squared_error(y_test, y_pred))\n",
        "print(\"Root Mean Squared Error (RMSE):\", np.sqrt(mean_squared_error(y_test, y_pred)))\n",
        "\n"
      ],
      "metadata": {
        "id": "pLyZ62x1FGM6"
      },
      "execution_count": null,
      "outputs": []
    }
  ]
}