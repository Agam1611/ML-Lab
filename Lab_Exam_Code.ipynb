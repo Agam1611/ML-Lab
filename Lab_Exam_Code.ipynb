{
  "nbformat": 4,
  "nbformat_minor": 0,
  "metadata": {
    "colab": {
      "provenance": []
    },
    "kernelspec": {
      "name": "python3",
      "display_name": "Python 3"
    },
    "language_info": {
      "name": "python"
    }
  },
  "cells": [
    {
      "cell_type": "code",
      "execution_count": 16,
      "metadata": {
        "colab": {
          "base_uri": "https://localhost:8080/"
        },
        "id": "6BEmwFBpskKX",
        "outputId": "38461ec9-98f2-4dd2-fe00-e8f0d788e270"
      },
      "outputs": [
        {
          "output_type": "stream",
          "name": "stdout",
          "text": [
            "<class 'pandas.core.frame.DataFrame'>\n",
            "RangeIndex: 10 entries, 0 to 9\n",
            "Data columns (total 4 columns):\n",
            " #   Column    Non-Null Count  Dtype \n",
            "---  ------    --------------  ----- \n",
            " 0   BMI       10 non-null     int64 \n",
            " 1   Age       10 non-null     int64 \n",
            " 2   Sugar     10 non-null     object\n",
            " 3   Diabetes  10 non-null     object\n",
            "dtypes: int64(2), object(2)\n",
            "memory usage: 452.0+ bytes\n",
            "None\n",
            "   BMI  Age Sugar Diabetes\n",
            "0    2   25   Yes      Yes\n",
            "1    8   20    No      Yes\n",
            "2    7   25   Yes       No\n",
            "3    8   20   Yes      Yes\n",
            "4   40   50    No       No\n",
            "Accuracy: 50.00%\n",
            "Classification Report:\n",
            "              precision    recall  f1-score   support\n",
            "\n",
            "          No       0.00      0.00      0.00         0\n",
            "         Yes       1.00      0.50      0.67         2\n",
            "\n",
            "    accuracy                           0.50         2\n",
            "   macro avg       0.50      0.25      0.33         2\n",
            "weighted avg       1.00      0.50      0.67         2\n",
            "\n"
          ]
        },
        {
          "output_type": "stream",
          "name": "stderr",
          "text": [
            "/usr/local/lib/python3.11/dist-packages/sklearn/metrics/_classification.py:1565: UndefinedMetricWarning: Recall is ill-defined and being set to 0.0 in labels with no true samples. Use `zero_division` parameter to control this behavior.\n",
            "  _warn_prf(average, modifier, f\"{metric.capitalize()} is\", len(result))\n",
            "/usr/local/lib/python3.11/dist-packages/sklearn/metrics/_classification.py:1565: UndefinedMetricWarning: Recall is ill-defined and being set to 0.0 in labels with no true samples. Use `zero_division` parameter to control this behavior.\n",
            "  _warn_prf(average, modifier, f\"{metric.capitalize()} is\", len(result))\n",
            "/usr/local/lib/python3.11/dist-packages/sklearn/metrics/_classification.py:1565: UndefinedMetricWarning: Recall is ill-defined and being set to 0.0 in labels with no true samples. Use `zero_division` parameter to control this behavior.\n",
            "  _warn_prf(average, modifier, f\"{metric.capitalize()} is\", len(result))\n"
          ]
        }
      ],
      "source": [
        "import pandas as pd\n",
        "import seaborn as sns\n",
        "import matplotlib.pyplot as plt\n",
        "from sklearn.model_selection import train_test_split\n",
        "from sklearn.linear_model import LogisticRegression\n",
        "from sklearn.preprocessing import StandardScaler, OneHotEncoder\n",
        "from sklearn.compose import ColumnTransformer\n",
        "from sklearn.pipeline import Pipeline\n",
        "from sklearn.metrics import accuracy_score, classification_report\n",
        "\n",
        "# Load the dataset\n",
        "data = {\n",
        "    'BMI':[2,8,7,8,40,23,3,13,17,6],\n",
        "    'Age': [25,20,25,20,50,15,10,30,22,27],\n",
        "    'Sugar':[\"Yes\",\"No\",\"Yes\",\"Yes\",\"No\",\"Yes\",\"No\",\"No\",\"Yes\",\"Yes\"],\n",
        "    'Diabetes':[\"Yes\",\"Yes\",\"No\",\"Yes\",\"No\",\"Yes\",\"No\",\"No\",\"Yes\",\"No\"]\n",
        "}\n",
        "df = pd.DataFrame(data)\n",
        "# Display basic info\n",
        "print(df.info())\n",
        "print(df.head())\n",
        "\n",
        "# --- LOGISTIC REGRESSION MODEL ---\n",
        "\n",
        "# Define features and target variable\n",
        "X = df[['BMI','Age','Sugar']]\n",
        "y = df['Diabetes']\n",
        "\n",
        "# Preprocessing: Scale numeric features and one-hot encode categorical features\n",
        "preprocessor = ColumnTransformer(transformers=[\n",
        "    ('num', StandardScaler(), ['BMI','Age']),\n",
        "    ('cat', OneHotEncoder(), ['Sugar'])\n",
        "])\n",
        "\n",
        "# Create pipeline with logistic regression\n",
        "model = Pipeline(steps=[\n",
        "    ('preprocessor', preprocessor),\n",
        "    ('classifier', LogisticRegression(max_iter=1000))\n",
        "])\n",
        "\n",
        "# Split data into training and test sets\n",
        "X_train, X_test, y_train, y_test = train_test_split(X, y, test_size=0.2, random_state=42)\n",
        "\n",
        "# Train the model\n",
        "model.fit(X_train, y_train)\n",
        "\n",
        "# Predict on test data\n",
        "y_pred = model.predict(X_test)\n",
        "\n",
        "# Measure accuracy and display classification report\n",
        "accuracy = accuracy_score(y_test, y_pred)\n",
        "report = classification_report(y_test, y_pred)\n",
        "\n",
        "print(f'Accuracy: {accuracy:.2%}')\n",
        "print('Classification Report:')\n",
        "print(report)"
      ]
    },
    {
      "cell_type": "code",
      "source": [
        "import pandas as pd\n",
        "from sklearn.model_selection import train_test_split\n",
        "from sklearn.tree import DecisionTreeClassifier, DecisionTreeRegressor\n",
        "from sklearn.metrics import accuracy_score, confusion_matrix, mean_absolute_error, mean_squared_error\n",
        "import numpy as np\n",
        "from sklearn.preprocessing import LabelEncoder\n",
        "\n",
        "data = {\n",
        "    'BMI':[2,8,7,8,40,23,3,13,17,6],\n",
        "    'Age': [20,25,25,20,50,15,10,30,22,27],\n",
        "    'Sugar':[1,0,1,1,0,1,0,0,1,0],\n",
        "    'Diabetes':[1,1,0,1,0,1,0,0,1,0]\n",
        "        # 'Sugar':[\"Yes\",\"No\",\"Yes\",\"Yes\",\"No\",\"Yes\",\"No\",\"No\",\"Yes\",\"No\"],\n",
        "    # 'Diabetes':[\"Yes\",\"Yes\",\"No\",\"Yes\",\"No\",\"Yes\",\"No\",\"No\",\"Yes\",\"No\"]\n",
        "}\n",
        "iris_df = pd.DataFrame(data)\n",
        "\n",
        "\n",
        "# Load datasets\n",
        "# iris_df = pd.read_csv(\"iris.csv\")\n",
        "\n",
        "# Prepare IRIS dataset\n",
        "X_iris = iris_df.drop(columns=[\"Diabetes\"])\n",
        "y_iris = iris_df[\"Diabetes\"]\n",
        "X_train_iris, X_test_iris, y_train_iris, y_test_iris = train_test_split(X_iris, y_iris, test_size=0.2, random_state=42)\n",
        "\n",
        "# Train Decision Tree Classifier for IRIS\n",
        "iris_clf = DecisionTreeClassifier(random_state=42)\n",
        "iris_clf.fit(X_train_iris, y_train_iris)\n",
        "y_pred_iris = iris_clf.predict(X_test_iris)\n",
        "\n",
        "# IRIS Metrics\n",
        "print(\"Iris Accuracy:\", accuracy_score(y_test_iris, y_pred_iris))\n",
        "print(\"Iris Confusion Matrix:\\n\", confusion_matrix(y_test_iris, y_pred_iris))\n",
        "\n"
      ],
      "metadata": {
        "colab": {
          "base_uri": "https://localhost:8080/"
        },
        "id": "VMDOfYSD5_pH",
        "outputId": "5af4d2ca-a3ac-416d-b87d-3c57b3c41750"
      },
      "execution_count": 18,
      "outputs": [
        {
          "output_type": "stream",
          "name": "stdout",
          "text": [
            "Iris Accuracy: 0.5\n",
            "Iris Confusion Matrix:\n",
            " [[0 0]\n",
            " [1 1]]\n"
          ]
        }
      ]
    }
  ]
}