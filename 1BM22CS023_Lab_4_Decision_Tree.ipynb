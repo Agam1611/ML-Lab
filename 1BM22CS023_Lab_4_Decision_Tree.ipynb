{
  "nbformat": 4,
  "nbformat_minor": 0,
  "metadata": {
    "colab": {
      "provenance": []
    },
    "kernelspec": {
      "name": "python3",
      "display_name": "Python 3"
    },
    "language_info": {
      "name": "python"
    }
  },
  "cells": [
    {
      "cell_type": "code",
      "execution_count": 2,
      "metadata": {
        "colab": {
          "base_uri": "https://localhost:8080/"
        },
        "id": "_ZMVhKYYftyD",
        "outputId": "0bf427b4-899a-4b46-dab9-9cebdf83f95b"
      },
      "outputs": [
        {
          "output_type": "stream",
          "name": "stdout",
          "text": [
            "Iris Accuracy: 1.0\n",
            "Iris Confusion Matrix:\n",
            " [[10  0  0]\n",
            " [ 0  9  0]\n",
            " [ 0  0 11]]\n",
            "Drug Accuracy: 1.0\n",
            "Drug Confusion Matrix:\n",
            " [[ 6  0  0  0  0]\n",
            " [ 0  3  0  0  0]\n",
            " [ 0  0  5  0  0]\n",
            " [ 0  0  0 11  0]\n",
            " [ 0  0  0  0 15]]\n",
            "Mean Absolute Error (MAE): 94.3\n",
            "Mean Squared Error (MSE): 17347.7\n",
            "Root Mean Squared Error (RMSE): 131.7106677532234\n"
          ]
        }
      ],
      "source": [
        "import pandas as pd\n",
        "from sklearn.model_selection import train_test_split\n",
        "from sklearn.tree import DecisionTreeClassifier, DecisionTreeRegressor\n",
        "from sklearn.metrics import accuracy_score, confusion_matrix, mean_absolute_error, mean_squared_error\n",
        "import numpy as np\n",
        "from sklearn.preprocessing import LabelEncoder\n",
        "\n",
        "# Load datasets\n",
        "iris_df = pd.read_csv(\"iris.csv\")\n",
        "drug_df = pd.read_csv(\"drug.csv\")\n",
        "petrol_df = pd.read_csv(\"petrol_consumption.csv\")\n",
        "\n",
        "# Prepare IRIS dataset\n",
        "X_iris = iris_df.drop(columns=[\"species\"])\n",
        "y_iris = iris_df[\"species\"]\n",
        "X_train_iris, X_test_iris, y_train_iris, y_test_iris = train_test_split(X_iris, y_iris, test_size=0.2, random_state=42)\n",
        "\n",
        "# Train Decision Tree Classifier for IRIS\n",
        "iris_clf = DecisionTreeClassifier(random_state=42)\n",
        "iris_clf.fit(X_train_iris, y_train_iris)\n",
        "y_pred_iris = iris_clf.predict(X_test_iris)\n",
        "\n",
        "# IRIS Metrics\n",
        "print(\"Iris Accuracy:\", accuracy_score(y_test_iris, y_pred_iris))\n",
        "print(\"Iris Confusion Matrix:\\n\", confusion_matrix(y_test_iris, y_pred_iris))\n",
        "\n",
        "# Prepare Drug dataset (encode categorical variables)\n",
        "label_encoders = {}\n",
        "for col in [\"Sex\", \"BP\", \"Cholesterol\"]:\n",
        "    label_encoders[col] = LabelEncoder()\n",
        "    drug_df[col] = label_encoders[col].fit_transform(drug_df[col])\n",
        "\n",
        "X_drug = drug_df.drop(columns=[\"Drug\"])\n",
        "y_drug = drug_df[\"Drug\"]\n",
        "X_train_drug, X_test_drug, y_train_drug, y_test_drug = train_test_split(X_drug, y_drug, test_size=0.2, random_state=42)\n",
        "\n",
        "# Train Decision Tree Classifier for Drug dataset\n",
        "drug_clf = DecisionTreeClassifier(random_state=42)\n",
        "drug_clf.fit(X_train_drug, y_train_drug)\n",
        "y_pred_drug = drug_clf.predict(X_test_drug)\n",
        "\n",
        "# Drug Metrics\n",
        "print(\"Drug Accuracy:\", accuracy_score(y_test_drug, y_pred_drug))\n",
        "print(\"Drug Confusion Matrix:\\n\", confusion_matrix(y_test_drug, y_pred_drug))\n",
        "\n",
        "# Prepare Petrol Consumption dataset\n",
        "X_petrol = petrol_df.drop(columns=[\"Petrol_Consumption\"])\n",
        "y_petrol = petrol_df[\"Petrol_Consumption\"]\n",
        "X_train_petrol, X_test_petrol, y_train_petrol, y_test_petrol = train_test_split(X_petrol, y_petrol, test_size=0.2, random_state=42)\n",
        "\n",
        "# Train Decision Tree Regressor for Petrol dataset\n",
        "petrol_reg = DecisionTreeRegressor(random_state=42)\n",
        "petrol_reg.fit(X_train_petrol, y_train_petrol)\n",
        "y_pred_petrol = petrol_reg.predict(X_test_petrol)\n",
        "\n",
        "# Petrol Regression Metrics\n",
        "print(\"Mean Absolute Error (MAE):\", mean_absolute_error(y_test_petrol, y_pred_petrol))\n",
        "print(\"Mean Squared Error (MSE):\", mean_squared_error(y_test_petrol, y_pred_petrol))\n",
        "print(\"Root Mean Squared Error (RMSE):\", np.sqrt(mean_squared_error(y_test_petrol, y_pred_petrol)))\n"
      ]
    }
  ]
}